{
 "cells": [
  {
   "cell_type": "code",
   "execution_count": 1,
   "id": "2ed69750",
   "metadata": {},
   "outputs": [],
   "source": [
    "import tensorflow as tf\n",
    "from tensorflow.keras.models import Sequential\n",
    "from tensorflow.keras.layers import Dense, Conv2D, MaxPooling2D, Flatten, Dropout\n",
    "from tensorflow.keras.callbacks import ModelCheckpoint\n",
    "import numpy as np\n",
    "import matplotlib.pyplot as plt"
   ]
  },
  {
   "cell_type": "code",
   "execution_count": 2,
   "id": "221bb41b",
   "metadata": {},
   "outputs": [],
   "source": [
    "# Load the dataset\n",
    "data_path = r'C:\\Users\\Asus\\OneDrive\\Documents\\STUDY MATERIAL\\6Sem\\Aditi\\Sample1\\256_ObjectCategories'"
   ]
  },
  {
   "cell_type": "code",
   "execution_count": 3,
   "id": "9944e4a2",
   "metadata": {},
   "outputs": [
    {
     "name": "stdout",
     "output_type": "stream",
     "text": [
      "Found 30607 images belonging to 257 classes.\n",
      "Found 30607 images belonging to 257 classes.\n"
     ]
    }
   ],
   "source": [
    "# Preprocess the data\n",
    "from tensorflow.keras.preprocessing.image import ImageDataGenerator\n",
    "\n",
    "# Set the batch size and image size\n",
    "batch_size = 32\n",
    "img_size = (128, 128)\n",
    "\n",
    "# Create a data generator for the training set\n",
    "train_datagen = ImageDataGenerator(rescale=1./255,\n",
    "                                   shear_range=0.2,\n",
    "                                   zoom_range=0.2,\n",
    "                                   horizontal_flip=True)\n",
    "\n",
    "train_generator = train_datagen.flow_from_directory(r'C:\\Users\\Asus\\OneDrive\\Documents\\STUDY MATERIAL\\6Sem\\Aditi\\Sample1\\train',\n",
    "                                                    target_size=img_size,\n",
    "                                                    batch_size=batch_size,\n",
    "                                                    class_mode='categorical')\n",
    "\n",
    "# Create a data generator for the validation set\n",
    "val_datagen = ImageDataGenerator(rescale=1./255)\n",
    "\n",
    "val_generator = val_datagen.flow_from_directory(r'C:\\Users\\Asus\\OneDrive\\Documents\\STUDY MATERIAL\\6Sem\\Aditi\\Sample1\\test',\n",
    "                                                target_size=img_size,\n",
    "                                                batch_size=batch_size,\n",
    "                                                class_mode='categorical')"
   ]
  },
  {
   "cell_type": "code",
   "execution_count": 4,
   "id": "5ce15c55",
   "metadata": {},
   "outputs": [
    {
     "name": "stdout",
     "output_type": "stream",
     "text": [
      "Model: \"sequential\"\n",
      "_________________________________________________________________\n",
      " Layer (type)                Output Shape              Param #   \n",
      "=================================================================\n",
      " conv2d (Conv2D)             (None, 126, 126, 32)      896       \n",
      "                                                                 \n",
      " max_pooling2d (MaxPooling2D  (None, 63, 63, 32)       0         \n",
      " )                                                               \n",
      "                                                                 \n",
      " dropout (Dropout)           (None, 63, 63, 32)        0         \n",
      "                                                                 \n",
      " conv2d_1 (Conv2D)           (None, 61, 61, 64)        18496     \n",
      "                                                                 \n",
      " max_pooling2d_1 (MaxPooling  (None, 30, 30, 64)       0         \n",
      " 2D)                                                             \n",
      "                                                                 \n",
      " dropout_1 (Dropout)         (None, 30, 30, 64)        0         \n",
      "                                                                 \n",
      " conv2d_2 (Conv2D)           (None, 28, 28, 128)       73856     \n",
      "                                                                 \n",
      " max_pooling2d_2 (MaxPooling  (None, 14, 14, 128)      0         \n",
      " 2D)                                                             \n",
      "                                                                 \n",
      " dropout_2 (Dropout)         (None, 14, 14, 128)       0         \n",
      "                                                                 \n",
      " flatten (Flatten)           (None, 25088)             0         \n",
      "                                                                 \n",
      " dense (Dense)               (None, 256)               6422784   \n",
      "                                                                 \n",
      " dropout_3 (Dropout)         (None, 256)               0         \n",
      "                                                                 \n",
      " dense_1 (Dense)             (None, 257)               66049     \n",
      "                                                                 \n",
      "=================================================================\n",
      "Total params: 6,582,081\n",
      "Trainable params: 6,582,081\n",
      "Non-trainable params: 0\n",
      "_________________________________________________________________\n"
     ]
    }
   ],
   "source": [
    "# Define the model\n",
    "model = Sequential()\n",
    "\n",
    "model.add(Conv2D(32, (3, 3), activation='relu', input_shape=(128, 128, 3)))\n",
    "model.add(MaxPooling2D(pool_size=(2, 2)))\n",
    "model.add(Dropout(0.25))\n",
    "\n",
    "model.add(Conv2D(64, (3, 3), activation='relu'))\n",
    "model.add(MaxPooling2D(pool_size=(2, 2)))\n",
    "model.add(Dropout(0.25))\n",
    "\n",
    "model.add(Conv2D(128, (3, 3), activation='relu'))\n",
    "model.add(MaxPooling2D(pool_size=(2, 2)))\n",
    "model.add(Dropout(0.25))\n",
    "\n",
    "model.add(Flatten())\n",
    "model.add(Dense(256, activation='relu'))\n",
    "model.add(Dropout(0.5))\n",
    "model.add(Dense(257, activation='softmax'))\n",
    "\n",
    "model.summary()\n"
   ]
  },
  {
   "cell_type": "code",
   "execution_count": 5,
   "id": "8ccfd49f",
   "metadata": {},
   "outputs": [],
   "source": [
    "# Compile the model\n",
    "model.compile(optimizer='adam',\n",
    "              loss='categorical_crossentropy',\n",
    "              metrics=['accuracy'])\n"
   ]
  },
  {
   "cell_type": "code",
   "execution_count": null,
   "id": "f866e107",
   "metadata": {},
   "outputs": [
    {
     "name": "stdout",
     "output_type": "stream",
     "text": [
      "Epoch 1/50\n",
      "956/956 [==============================] - 1249s 1s/step - loss: 5.2622 - accuracy: 0.0558 - val_loss: 4.8043 - val_accuracy: 0.1017\n",
      "Epoch 2/50\n",
      "956/956 [==============================] - 1670s 2s/step - loss: 4.7620 - accuracy: 0.1040 - val_loss: 4.3474 - val_accuracy: 0.1460\n",
      "Epoch 3/50\n",
      "956/956 [==============================] - 1413s 1s/step - loss: 4.4955 - accuracy: 0.1303 - val_loss: 4.0767 - val_accuracy: 0.1903\n",
      "Epoch 4/50\n",
      "956/956 [==============================] - 994s 1s/step - loss: 4.3446 - accuracy: 0.1470 - val_loss: 3.8574 - val_accuracy: 0.2160\n",
      "Epoch 5/50\n",
      "866/956 [==========================>...] - ETA: 1:06 - loss: 4.2077 - accuracy: 0.1617"
     ]
    }
   ],
   "source": [
    "# Train the model\n",
    "epochs = 50\n",
    "\n",
    "# Define a checkpoint callback to save the best model\n",
    "checkpoint_callback = ModelCheckpoint('model.h5', save_best_only=True)\n",
    "\n",
    "history = model.fit(train_generator,\n",
    "                              steps_per_epoch=train_generator.n // batch_size,\n",
    "                              epochs=epochs,\n",
    "                              validation_data=val_generator,\n",
    "                              validation_steps=val_generator.n // batch_size,\n",
    "                              callbacks=[checkpoint_callback])\n"
   ]
  }
 ],
 "metadata": {
  "kernelspec": {
   "display_name": "Python 3 (ipykernel)",
   "language": "python",
   "name": "python3"
  },
  "language_info": {
   "codemirror_mode": {
    "name": "ipython",
    "version": 3
   },
   "file_extension": ".py",
   "mimetype": "text/x-python",
   "name": "python",
   "nbconvert_exporter": "python",
   "pygments_lexer": "ipython3",
   "version": "3.10.9"
  }
 },
 "nbformat": 4,
 "nbformat_minor": 5
}
